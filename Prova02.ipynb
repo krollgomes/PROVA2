{
 "cells": [
  {
   "cell_type": "code",
   "execution_count": 11,
   "id": "4e14117d-25fe-4cd1-9454-3ba606eab22c",
   "metadata": {},
   "outputs": [
    {
     "name": "stdout",
     "output_type": "stream",
     "text": [
      "O consumo diario medio foi: 51.36666666666667\n"
     ]
    }
   ],
   "source": [
    "consumo_diario = [50, 45, 55, 60, 48, 52, 47, 49, 53, 51, 50, 46, 54, 61, 49, 53, 48, 50, 52, 47, 56, 50, 55, 60, 48, 52, 47, 49, 53, 51]\n",
    "\n",
    "def consumo(lista):\n",
    "    soma = sum(lista)\n",
    "    quantidade_dias = len(lista)\n",
    "    media = soma / quantidade_dias\n",
    "    return media\n",
    "\n",
    "print(f\"O consumo diario medio foi: {consumo(consumo_diario)}\")\n"
   ]
  },
  {
   "cell_type": "code",
   "execution_count": null,
   "id": "f22cf1fc-7f68-4f3e-970e-941e901042ed",
   "metadata": {},
   "outputs": [],
   "source": []
  }
 ],
 "metadata": {
  "kernelspec": {
   "display_name": "Python [conda env:base] *",
   "language": "python",
   "name": "conda-base-py"
  },
  "language_info": {
   "codemirror_mode": {
    "name": "ipython",
    "version": 3
   },
   "file_extension": ".py",
   "mimetype": "text/x-python",
   "name": "python",
   "nbconvert_exporter": "python",
   "pygments_lexer": "ipython3",
   "version": "3.12.7"
  }
 },
 "nbformat": 4,
 "nbformat_minor": 5
}
